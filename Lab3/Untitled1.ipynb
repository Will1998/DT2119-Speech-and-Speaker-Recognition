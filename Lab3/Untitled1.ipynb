{
 "cells": [
  {
   "cell_type": "code",
   "execution_count": 1,
   "metadata": {},
   "outputs": [],
   "source": [
    "import numpy as np\n",
    "from lab3_tools import *\n",
    "import matplotlib.pyplot as plt\n",
    "from lab1_proto import *\n",
    "from lab2_proto import *\n",
    "from lab3_proto import *\n",
    "from prondict import prondict"
   ]
  },
  {
   "cell_type": "code",
   "execution_count": 2,
   "metadata": {},
   "outputs": [
    {
     "data": {
      "text/plain": [
       "dict_keys(['filename', 'samples', 'gender', 'speaker', 'digits', 'repetition', 'lmfcc', 'wordTrans', 'phoneTrans', 'utteranceHMM', 'stateTrans', 'obsloglik', 'viterbiLoglik', 'viterbiPath', 'viterbiStateTrans'])"
      ]
     },
     "execution_count": 2,
     "metadata": {},
     "output_type": "execute_result"
    }
   ],
   "source": [
    "# Load example data\n",
    "example = np.load('lab3_example.npz',allow_pickle=True)['example'].item()\n",
    "example.keys()"
   ]
  },
  {
   "cell_type": "code",
   "execution_count": 3,
   "metadata": {},
   "outputs": [],
   "source": [
    "import pickle\n",
    "\n",
    "## Load models\n",
    "phoneHMMs_all = np.load('lab2_models_all.npz',allow_pickle=True)['phoneHMMs'].item()\n",
    "phones = sorted(phoneHMMs_all.keys())\n",
    "\n",
    "# all possible phones and the nr of their states(phone:nr of states)\n",
    "nstates = {phone: phoneHMMs_all[phone]['means'].shape[0] for phone in phones}\n",
    "# list of all states(3 states for each phone)\n",
    "stateList = [ph + '_' + str(id) for ph in phones for id in range(nstates[ph])]\n",
    "\n",
    "# Saving the objects:\n",
    "#pickle.dump([nstates, stateList, phones], open('saved_files/phoneHMM_states.pkl', 'wb'))\n",
    "\n",
    "# Getting back the objects:\n",
    "# nstates, stateList, phones = pickle.load( open('saved_files/phoneHMM_states.pkl', 'rb'))"
   ]
  },
  {
   "cell_type": "code",
   "execution_count": 4,
   "metadata": {},
   "outputs": [
    {
     "name": "stdout",
     "output_type": "stream",
     "text": [
      "True\n",
      "[[5.99497025e-02 3.41067065e-01 2.23010043e-01 ... 9.55040651e+00\n",
      "  9.01907164e+00 5.28847305e+00]\n",
      " [2.32848001e-02 1.07362911e-01 1.91046143e-01 ... 4.69393459e+00\n",
      "  5.87567982e+00 7.79004490e+00]\n",
      " [1.24803082e-01 5.20282527e-02 2.20315586e-02 ... 7.35011781e+00\n",
      "  7.50885776e+00 2.40051702e+00]\n",
      " ...\n",
      " [3.81642971e+01 9.09659226e+00 2.30115178e+00 ... 6.44899712e+00\n",
      "  4.84063802e+00 7.92132751e+00]\n",
      " [2.79578173e+01 3.12953981e+01 5.67999017e+00 ... 3.33189886e+00\n",
      "  9.87905132e+00 1.47820344e+01]\n",
      " [1.47941352e+01 1.35828485e+01 1.66397946e+00 ... 2.67839246e+00\n",
      "  7.20485609e+00 9.17361104e+00]]\n",
      "[[5.99497025e-02 3.41067065e-01 2.23010043e-01 ... 9.55040651e+00\n",
      "  9.01907164e+00 5.28847305e+00]\n",
      " [2.32848001e-02 1.07362911e-01 1.91046143e-01 ... 4.69393459e+00\n",
      "  5.87567982e+00 7.79004490e+00]\n",
      " [1.24803082e-01 5.20282527e-02 2.20315586e-02 ... 7.35011781e+00\n",
      "  7.50885776e+00 2.40051702e+00]\n",
      " ...\n",
      " [3.81642971e+01 9.09659226e+00 2.30115178e+00 ... 6.44899712e+00\n",
      "  4.84063802e+00 7.92132751e+00]\n",
      " [2.79578173e+01 3.12953981e+01 5.67999017e+00 ... 3.33189886e+00\n",
      "  9.87905132e+00 1.47820344e+01]\n",
      " [1.47941352e+01 1.35828485e+01 1.66397946e+00 ... 2.67839246e+00\n",
      "  7.20485609e+00 9.17361104e+00]]\n",
      "True\n",
      "True\n"
     ]
    }
   ],
   "source": [
    "# My functions deliver the same outputs as excpected from example\n",
    "filename = 'tidigits/disc_4.1.1/tidigits/train/man/nw/z43a.wav'\n",
    "samples, samplingrate = loadAudio(filename)\n",
    "print(np.allclose(example['samples'], samples))\n",
    "lmfcc = mfcc(samples)\n",
    "print(np.allclose(example['lmfcc'], lmfcc)) #!!\n",
    "wordTrans = list(path2info(filename)[2])\n",
    "print(example['wordTrans'] == wordTrans)"
   ]
  },
  {
   "cell_type": "code",
   "execution_count": null,
   "metadata": {},
   "outputs": [],
   "source": []
  }
 ],
 "metadata": {
  "kernelspec": {
   "display_name": "Python 3",
   "language": "python",
   "name": "python3"
  },
  "language_info": {
   "codemirror_mode": {
    "name": "ipython",
    "version": 3
   },
   "file_extension": ".py",
   "mimetype": "text/x-python",
   "name": "python",
   "nbconvert_exporter": "python",
   "pygments_lexer": "ipython3",
   "version": "3.7.4"
  }
 },
 "nbformat": 4,
 "nbformat_minor": 2
}
